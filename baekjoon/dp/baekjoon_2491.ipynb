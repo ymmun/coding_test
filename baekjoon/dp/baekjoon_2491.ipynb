{
 "cells": [
  {
   "cell_type": "raw",
   "source": [
    "# 출저: https://www.acmicpc.net/problem/2491\n",
    "\n",
    "# 풀이: 앞의 숫자부터 하나씩 비교해간다."
   ],
   "metadata": {
    "collapsed": false,
    "pycharm": {
     "name": "#%% raw\n"
    }
   }
  },
  {
   "cell_type": "code",
   "execution_count": 1,
   "metadata": {
    "collapsed": true
   },
   "outputs": [],
   "source": [
    "list_length = int(input())\n",
    "seq = list(map(int, input().split()))"
   ]
  },
  {
   "cell_type": "code",
   "execution_count": 2,
   "outputs": [
    {
     "name": "stdout",
     "output_type": "stream",
     "text": [
      "9\n",
      "[1, 2, 2, 4, 4, 5, 7, 7, 2]\n"
     ]
    }
   ],
   "source": [
    "print(list_length)\n",
    "print(seq)"
   ],
   "metadata": {
    "collapsed": false,
    "pycharm": {
     "name": "#%%\n"
    }
   }
  },
  {
   "cell_type": "code",
   "execution_count": 3,
   "outputs": [],
   "source": [
    "answer = 1\n",
    "greater = 1\n",
    "less = 1\n",
    "for i in range(1, len(seq)):\n",
    "    if seq[i] >= seq[i-1]:\n",
    "        greater += 1\n",
    "    else:\n",
    "        answer = max(answer, less, greater)\n",
    "        greater = 1\n",
    "    if seq[i] <= seq[i-1]:\n",
    "        less += 1\n",
    "    else:\n",
    "        answer = max(answer, less, greater)\n",
    "        less = 1\n",
    "    answer = max(answer, less, greater) # [1, 1, 1, 1] 같은 경우인 경우 위의 if 만 처리하기 때문에 answer = 1이다. 이와 같은 케이스 처리"
   ],
   "metadata": {
    "collapsed": false,
    "pycharm": {
     "name": "#%%\n"
    }
   }
  },
  {
   "cell_type": "code",
   "execution_count": 4,
   "outputs": [
    {
     "data": {
      "text/plain": "8"
     },
     "execution_count": 4,
     "metadata": {},
     "output_type": "execute_result"
    }
   ],
   "source": [
    "answer"
   ],
   "metadata": {
    "collapsed": false,
    "pycharm": {
     "name": "#%%\n"
    }
   }
  },
  {
   "cell_type": "code",
   "execution_count": null,
   "outputs": [],
   "source": [],
   "metadata": {
    "collapsed": false,
    "pycharm": {
     "name": "#%%\n"
    }
   }
  }
 ],
 "metadata": {
  "kernelspec": {
   "display_name": "Python 3",
   "language": "python",
   "name": "python3"
  },
  "language_info": {
   "codemirror_mode": {
    "name": "ipython",
    "version": 2
   },
   "file_extension": ".py",
   "mimetype": "text/x-python",
   "name": "python",
   "nbconvert_exporter": "python",
   "pygments_lexer": "ipython2",
   "version": "2.7.6"
  }
 },
 "nbformat": 4,
 "nbformat_minor": 0
}