{
 "cells": [
  {
   "cell_type": "markdown",
   "metadata": {
    "collapsed": true,
    "pycharm": {
     "name": "#%% md\n"
    }
   },
   "source": [
    "# 출저: https://www.acmicpc.net/problem/1495\n",
    "\n",
    "# 풀이: 2중 list 이용\n",
    "# row: 볼륨 (가능한경우 1), column: n번째 노래\n",
    "# ex: [[0, 0, 0, 0],\n",
    "#      [0, 0, 0, 0]] ->  최대볼륨 1 (볼륨0인 경우도 있다), 노래는 3개 (처음은 시작 volume 이다)"
   ]
  },
  {
   "cell_type": "code",
   "execution_count": 1,
   "outputs": [
    {
     "name": "stdout",
     "output_type": "stream",
     "text": [
      "14 40 243\n"
     ]
    }
   ],
   "source": [
    "n, s, m = map(int, input().split())  # 길이, # 시작 볼륨, # 최대 볼륨\n",
    "print(n, s, m)"
   ],
   "metadata": {
    "collapsed": false,
    "pycharm": {
     "name": "#%%\n"
    }
   }
  },
  {
   "cell_type": "code",
   "execution_count": 2,
   "outputs": [
    {
     "data": {
      "text/plain": "[74, 39, 127, 95, 63, 140, 99, 96, 154, 18, 137, 162, 14, 88]"
     },
     "execution_count": 2,
     "metadata": {},
     "output_type": "execute_result"
    }
   ],
   "source": [
    "volume_list = list(map(int, input().split()))\n",
    "volume_list"
   ],
   "metadata": {
    "collapsed": false,
    "pycharm": {
     "name": "#%%\n"
    }
   }
  },
  {
   "cell_type": "code",
   "execution_count": 3,
   "outputs": [],
   "source": [
    "volume_info = [[0] * (len(volume_list)+1) for _ in range(m+1)]"
   ],
   "metadata": {
    "collapsed": false,
    "pycharm": {
     "name": "#%%\n"
    }
   }
  },
  {
   "cell_type": "code",
   "execution_count": 4,
   "outputs": [],
   "source": [
    "volume_info[s][0] =1 # 시작 볼륨 설정"
   ],
   "metadata": {
    "collapsed": false,
    "pycharm": {
     "name": "#%%\n"
    }
   }
  },
  {
   "cell_type": "code",
   "execution_count": 5,
   "outputs": [],
   "source": [
    "for j in range(len(volume_list)):\n",
    "    for i in range(0, m+1):\n",
    "        if volume_info[i][j] == 1:\n",
    "            if i + volume_list[j] <= m:\n",
    "                volume_info[i + volume_list[j]][j+1] = 1\n",
    "            if i - volume_list[j] >= 0:\n",
    "                volume_info[i - volume_list[j]][j+1] = 1"
   ],
   "metadata": {
    "collapsed": false,
    "pycharm": {
     "name": "#%%\n"
    }
   }
  },
  {
   "cell_type": "code",
   "execution_count": 6,
   "outputs": [
    {
     "name": "stdout",
     "output_type": "stream",
     "text": [
      "238\n"
     ]
    }
   ],
   "source": [
    "answer = -1\n",
    "for current_volume in range(m, -1, -1): # 최대 볼륨 값을 구해야 하기 때문에 뒤에서 부터 구한다\n",
    "    if volume_info[current_volume][len(volume_list)] == 1:\n",
    "        answer = current_volume\n",
    "        break\n",
    "print(answer)"
   ],
   "metadata": {
    "collapsed": false,
    "pycharm": {
     "name": "#%%\n"
    }
   }
  }
 ],
 "metadata": {
  "kernelspec": {
   "display_name": "Python 3",
   "language": "python",
   "name": "python3"
  },
  "language_info": {
   "codemirror_mode": {
    "name": "ipython",
    "version": 2
   },
   "file_extension": ".py",
   "mimetype": "text/x-python",
   "name": "python",
   "nbconvert_exporter": "python",
   "pygments_lexer": "ipython2",
   "version": "2.7.6"
  }
 },
 "nbformat": 4,
 "nbformat_minor": 0
}