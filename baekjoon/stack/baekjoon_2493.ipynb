{
 "cells": [
  {
   "cell_type": "markdown",
   "metadata": {},
   "source": [
    "출저: https://www.acmicpc.net/problem/2493 <br>\n",
    "풀이: 타워 정보가 있는 stack 생성 ([idx, 타워정보]) 형태 이용."
   ]
  },
  {
   "cell_type": "code",
   "execution_count": 1,
   "metadata": {},
   "outputs": [],
   "source": [
    "from collections import deque"
   ]
  },
  {
   "cell_type": "code",
   "execution_count": 2,
   "metadata": {},
   "outputs": [
    {
     "name": "stdout",
     "output_type": "stream",
     "text": [
      "4\n"
     ]
    }
   ],
   "source": [
    "tower_length  = int(input())"
   ]
  },
  {
   "cell_type": "code",
   "execution_count": 3,
   "metadata": {},
   "outputs": [
    {
     "name": "stdout",
     "output_type": "stream",
     "text": [
      "4 3 5 4\n"
     ]
    }
   ],
   "source": [
    "tower_list = list(map(int, input().split()))"
   ]
  },
  {
   "cell_type": "code",
   "execution_count": 4,
   "metadata": {},
   "outputs": [],
   "source": [
    "tower_length = 4\n",
    "tower_list = [4, 3, 5, 4] # 0 1 0 3"
   ]
  },
  {
   "cell_type": "code",
   "execution_count": 5,
   "metadata": {},
   "outputs": [],
   "source": [
    "tower_length = 5\n",
    "tower_list = [6, 9, 5, 7, 4] # 0 0 2 2 4"
   ]
  },
  {
   "cell_type": "code",
   "execution_count": 6,
   "metadata": {},
   "outputs": [
    {
     "name": "stdout",
     "output_type": "stream",
     "text": [
      "deque([[0, 6]])\n",
      "deque([[1, 9]])\n",
      "deque([[1, 9], [2, 5]])\n",
      "deque([[1, 9], [3, 7]])\n",
      "deque([[1, 9], [3, 7], [4, 4]])\n"
     ]
    }
   ],
   "source": [
    "answer = deque()\n",
    "tower_info = deque([])\n",
    "for i in range(tower_length):\n",
    "    while tower_info:\n",
    "        if tower_info[-1][1] >= tower_list[i]: # 타워 수신\n",
    "            answer.append(tower_info[-1][0]+1)\n",
    "            break\n",
    "        else:\n",
    "            tower_info.pop()\n",
    "    if not tower_info: # 수신 X\n",
    "        answer.append(0)\n",
    "    tower_info.append([i, tower_list[i]])\n",
    "    \n",
    "    \n",
    "    print(tower_info)"
   ]
  },
  {
   "cell_type": "code",
   "execution_count": 7,
   "metadata": {},
   "outputs": [
    {
     "data": {
      "text/plain": [
       "deque([0, 0, 2, 2, 4])"
      ]
     },
     "execution_count": 7,
     "metadata": {},
     "output_type": "execute_result"
    }
   ],
   "source": [
    "answer"
   ]
  }
 ],
 "metadata": {
  "kernelspec": {
   "display_name": "Python 3",
   "language": "python",
   "name": "python3"
  },
  "language_info": {
   "codemirror_mode": {
    "name": "ipython",
    "version": 3
   },
   "file_extension": ".py",
   "mimetype": "text/x-python",
   "name": "python",
   "nbconvert_exporter": "python",
   "pygments_lexer": "ipython3",
   "version": "3.8.3"
  }
 },
 "nbformat": 4,
 "nbformat_minor": 4
}